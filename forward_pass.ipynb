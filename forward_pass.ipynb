{
 "cells": [
  {
   "cell_type": "markdown",
   "metadata": {},
   "source": [
    "# Creating Forward pass in neural network"
   ]
  },
  {
   "cell_type": "code",
   "execution_count": 58,
   "metadata": {},
   "outputs": [],
   "source": [
    "import numpy as np\n",
    "\n",
    "def sigmoid(x):\n",
    "    return 1 / (1 + np.exp(-x))\n",
    "\n",
    "def relu(x):\n",
    "    return np.maximum(0, x)\n",
    "\n"
   ]
  },
  {
   "cell_type": "markdown",
   "metadata": {},
   "source": [
    "# Defining the neural network architecture"
   ]
  },
  {
   "cell_type": "code",
   "execution_count": 59,
   "metadata": {},
   "outputs": [],
   "source": [
    "input_size = 2 # it means that there are two inputs\n",
    "hidden_size = 6 # it means there are three hidden layer\n",
    "output_size = 2 # as there are two inputs there will be two outputs"
   ]
  },
  {
   "cell_type": "markdown",
   "metadata": {},
   "source": [
    "# generating random input data"
   ]
  },
  {
   "cell_type": "code",
   "execution_count": 60,
   "metadata": {},
   "outputs": [
    {
     "name": "stdout",
     "output_type": "stream",
     "text": [
      "[[1.95963161 1.03174217]]\n"
     ]
    }
   ],
   "source": [
    "input_data = np.random.randn(1, input_size)\n",
    "print(input_data)"
   ]
  },
  {
   "cell_type": "markdown",
   "metadata": {},
   "source": [
    "# Initialize random weights\n",
    "\n",
    "- weights can't be negative."
   ]
  },
  {
   "cell_type": "code",
   "execution_count": 61,
   "metadata": {},
   "outputs": [],
   "source": [
    "weights_input_to_hidden = np.random.randn(input_size, hidden_size)\n",
    "weights_hidden_to_output = np.random.randn(hidden_size, output_size)"
   ]
  },
  {
   "cell_type": "code",
   "execution_count": 62,
   "metadata": {},
   "outputs": [
    {
     "name": "stdout",
     "output_type": "stream",
     "text": [
      "weight_of_input_layer:\n",
      " [[-0.72892983 -1.21092759  0.52577761 -0.90171757  0.94203508 -1.15501073]\n",
      " [-0.21707728  0.32891622  0.47896457 -0.77536388  1.70111818  0.62134914]]\n",
      "weights_hidden_output:\n",
      " [[-0.1010274  -1.30837866]\n",
      " [ 1.2622504  -0.29981904]\n",
      " [ 1.37057355  0.58926297]\n",
      " [-2.06863578  0.87240129]\n",
      " [-0.1200127  -0.99585772]\n",
      " [-0.36237476 -0.34763484]]\n"
     ]
    }
   ],
   "source": [
    "print(\"weight_of_input_layer:\\n\", weights_input_to_hidden)\n",
    "print(\"weights_hidden_output:\\n\",weights_hidden_to_output)"
   ]
  },
  {
   "cell_type": "markdown",
   "metadata": {},
   "source": [
    "# Forward pass"
   ]
  },
  {
   "cell_type": "code",
   "execution_count": 63,
   "metadata": {},
   "outputs": [],
   "source": [
    "hidden_layer_input = np.dot(input_data, weights_input_to_hidden)\n",
    "hidden_layer_output = sigmoid(hidden_layer_input)\n",
    "\n",
    "output_layer_input = np.dot(hidden_layer_output, weights_hidden_to_output)\n",
    "output_layer_output = relu(output_layer_input)"
   ]
  },
  {
   "cell_type": "code",
   "execution_count": 64,
   "metadata": {},
   "outputs": [
    {
     "name": "stdout",
     "output_type": "stream",
     "text": [
      "hidden_layer_input: \n",
      " [[-1.65240172 -2.03361526  1.52449837 -2.56700986  3.60115709 -1.62232342]]\n",
      "hidden_layer_output:\n",
      " [[0.16078461 0.11571847 0.82119993 0.07129203 0.97343295 0.16488469]]\n"
     ]
    }
   ],
   "source": [
    "print(\"hidden_layer_input: \\n\",hidden_layer_input)\n",
    "print(\"hidden_layer_output:\\n\",hidden_layer_output)"
   ]
  },
  {
   "cell_type": "code",
   "execution_count": 65,
   "metadata": {},
   "outputs": [
    {
     "name": "stdout",
     "output_type": "stream",
     "text": [
      "output_layer_input:\n",
      " [[ 0.93128534 -0.72568416]]\n",
      "output_layer_output:\n",
      " [[0.93128534 0.        ]]\n"
     ]
    }
   ],
   "source": [
    "print(\"output_layer_input:\\n\",output_layer_input)\n",
    "print(\"output_layer_output:\\n\",output_layer_output)"
   ]
  }
 ],
 "metadata": {
  "kernelspec": {
   "display_name": "base",
   "language": "python",
   "name": "python3"
  },
  "language_info": {
   "codemirror_mode": {
    "name": "ipython",
    "version": 3
   },
   "file_extension": ".py",
   "mimetype": "text/x-python",
   "name": "python",
   "nbconvert_exporter": "python",
   "pygments_lexer": "ipython3",
   "version": "3.9.12"
  }
 },
 "nbformat": 4,
 "nbformat_minor": 2
}
