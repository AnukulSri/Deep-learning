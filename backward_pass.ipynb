{
 "cells": [
  {
   "cell_type": "markdown",
   "metadata": {},
   "source": [
    "# forward pass"
   ]
  },
  {
   "cell_type": "code",
   "execution_count": 1,
   "metadata": {},
   "outputs": [
    {
     "name": "stdout",
     "output_type": "stream",
     "text": [
      "[[-0.51329124 -0.68274944]]\n"
     ]
    }
   ],
   "source": [
    "import numpy as np\n",
    "\n",
    "def sigmoid(x):\n",
    "    return 1 / (1 + np.exp(-x))\n",
    "\n",
    "def relu(x):\n",
    "    return np.maximum(0, x)\n",
    "\n",
    "input_size = 2 # it means that there are two inputs\n",
    "hidden_size = 6 # it means there are three hidden layer\n",
    "output_size = 2 # as there are two inputs there will be two outputs\n",
    "input_data = np.random.randn(1, input_size)\n",
    "print(input_data)\n",
    "weights_input_to_hidden = np.random.randn(input_size, hidden_size)\n",
    "weights_hidden_to_output = np.random.randn(hidden_size, output_size)\n",
    "hidden_layer_input = np.dot(input_data, weights_input_to_hidden)\n",
    "hidden_layer_output = sigmoid(hidden_layer_input)\n",
    "\n",
    "output_layer_input = np.dot(hidden_layer_output, weights_hidden_to_output)\n",
    "output_layer_output = relu(output_layer_input)"
   ]
  },
  {
   "cell_type": "markdown",
   "metadata": {},
   "source": [
    "# Backward pass"
   ]
  },
  {
   "cell_type": "code",
   "execution_count": 2,
   "metadata": {},
   "outputs": [
    {
     "name": "stdout",
     "output_type": "stream",
     "text": [
      "Loss: 0.79753407754941\n"
     ]
    }
   ],
   "source": [
    "# Assuming we have some target output\n",
    "target_output = np.random.randn(1, output_size)\n",
    "\n",
    "# Calculate the loss (mean squared error)\n",
    "loss = np.mean((output_layer_output - target_output) ** 2)\n",
    "\n",
    "# Backpropagation\n",
    "# Calculate gradients of loss with respect to weights\n",
    "output_layer_error = output_layer_output - target_output\n",
    "output_layer_delta = output_layer_error\n",
    "hidden_layer_error = np.dot(output_layer_delta, weights_hidden_to_output.T)\n",
    "hidden_layer_delta = hidden_layer_error * hidden_layer_output * (1 - hidden_layer_output)\n",
    "\n",
    "# Update weights using gradients and learning rate\n",
    "learning_rate = 0.1\n",
    "weights_hidden_to_output -= np.dot(hidden_layer_output.T, output_layer_delta) * learning_rate\n",
    "weights_input_to_hidden -= np.dot(input_data.T, hidden_layer_delta) * learning_rate\n",
    "\n",
    "print(\"Loss:\", loss)\n"
   ]
  },
  {
   "cell_type": "code",
   "execution_count": 10,
   "metadata": {},
   "outputs": [
    {
     "name": "stdout",
     "output_type": "stream",
     "text": [
      "1 <__main__.Node object at 0x000001F1BDA89070>\n",
      "2 <__main__.Node object at 0x000001F1BDA99370>\n",
      "3 None\n"
     ]
    }
   ],
   "source": [
    "# Linked list implementation in Python\n",
    "\n",
    "\n",
    "class Node:\n",
    "    # Creating a node\n",
    "    def __init__(self, item):\n",
    "        self.item = item\n",
    "        self.next = None\n",
    "\n",
    "\n",
    "class LinkedList:\n",
    "\n",
    "    def __init__(self):\n",
    "        self.head = None\n",
    "\n",
    "\n",
    "if __name__ == '__main__':\n",
    "\n",
    "    linked_list = LinkedList()\n",
    "\n",
    "    # Assign item values\n",
    "    linked_list.head = Node(1)\n",
    "    second = Node(2)\n",
    "    third = Node(3)\n",
    "\n",
    "    # Connect nodes\n",
    "    linked_list.head.next = second\n",
    "    second.next = third\n",
    "\n",
    "    # Print the linked list item\n",
    "    while linked_list.head != None:\n",
    "        print(linked_list.head.item, end=\" \")\n",
    "        linked_list.head = linked_list.head.next\n",
    "        print((linked_list.head))\n"
   ]
  }
 ],
 "metadata": {
  "kernelspec": {
   "display_name": "base",
   "language": "python",
   "name": "python3"
  },
  "language_info": {
   "codemirror_mode": {
    "name": "ipython",
    "version": 3
   },
   "file_extension": ".py",
   "mimetype": "text/x-python",
   "name": "python",
   "nbconvert_exporter": "python",
   "pygments_lexer": "ipython3",
   "version": "3.9.12"
  }
 },
 "nbformat": 4,
 "nbformat_minor": 2
}
